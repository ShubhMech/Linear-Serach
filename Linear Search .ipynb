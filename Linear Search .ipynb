{
 "cells": [
  {
   "cell_type": "code",
   "execution_count": 2,
   "id": "1324efc3-aec4-418a-9c5d-bdf1f709a467",
   "metadata": {},
   "outputs": [],
   "source": [
    "def search(n, num):\n",
    "    for i in n:\n",
    "        if i == num:\n",
    "            return (\"The \"n.index(num), num)"
   ]
  },
  {
   "cell_type": "code",
   "execution_count": 3,
   "id": "ac151cc5-09a5-4783-8d64-b194c50c1532",
   "metadata": {},
   "outputs": [],
   "source": [
    "from array import *\n",
    "n= array(\"i\", range(1,101))"
   ]
  },
  {
   "cell_type": "code",
   "execution_count": 4,
   "id": "5da6632e-eaf5-44dd-8b3c-8bb9bfa0d29e",
   "metadata": {},
   "outputs": [
    {
     "data": {
      "text/plain": [
       "array('i', [1, 2, 3, 4, 5, 6, 7, 8, 9, 10, 11, 12, 13, 14, 15, 16, 17, 18, 19, 20, 21, 22, 23, 24, 25, 26, 27, 28, 29, 30, 31, 32, 33, 34, 35, 36, 37, 38, 39, 40, 41, 42, 43, 44, 45, 46, 47, 48, 49, 50, 51, 52, 53, 54, 55, 56, 57, 58, 59, 60, 61, 62, 63, 64, 65, 66, 67, 68, 69, 70, 71, 72, 73, 74, 75, 76, 77, 78, 79, 80, 81, 82, 83, 84, 85, 86, 87, 88, 89, 90, 91, 92, 93, 94, 95, 96, 97, 98, 99, 100])"
      ]
     },
     "execution_count": 4,
     "metadata": {},
     "output_type": "execute_result"
    }
   ],
   "source": [
    "n"
   ]
  },
  {
   "cell_type": "code",
   "execution_count": 5,
   "id": "1ae9db5f-cb6a-460e-b24c-17ca99277192",
   "metadata": {},
   "outputs": [
    {
     "data": {
      "text/plain": [
       "54"
      ]
     },
     "execution_count": 5,
     "metadata": {},
     "output_type": "execute_result"
    }
   ],
   "source": [
    "search(n,55)"
   ]
  },
  {
   "cell_type": "code",
   "execution_count": null,
   "id": "e45515dc-a3f4-40f7-9f29-893be331cd15",
   "metadata": {},
   "outputs": [],
   "source": []
  }
 ],
 "metadata": {
  "kernelspec": {
   "display_name": "Python 3",
   "language": "python",
   "name": "python3"
  },
  "language_info": {
   "codemirror_mode": {
    "name": "ipython",
    "version": 3
   },
   "file_extension": ".py",
   "mimetype": "text/x-python",
   "name": "python",
   "nbconvert_exporter": "python",
   "pygments_lexer": "ipython3",
   "version": "3.8.5"
  }
 },
 "nbformat": 4,
 "nbformat_minor": 5
}
